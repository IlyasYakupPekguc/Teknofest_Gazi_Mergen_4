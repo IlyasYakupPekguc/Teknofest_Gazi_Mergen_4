{
 "cells": [
  {
   "cell_type": "code",
   "execution_count": 1,
   "metadata": {},
   "outputs": [
    {
     "name": "stdout",
     "output_type": "stream",
     "text": [
      "deneme\n",
      "2\n"
     ]
    }
   ],
   "source": [
    "print(\"deneme\")\n",
    "print(10)\n",
    "5+2"
   ]
  }
 ],
 "metadata": {
  "kernelspec": {
   "display_name": "Python 3",
   "language": "python",
   "name": "python3"
  },
  "language_info": {
   "codemirror_mode": {
    "name": "ipython",
    "version": 3
   },
   "file_extension": ".py",
   "mimetype": "text/x-python",
   "name": "python",
   "nbconvert_exporter": "python",
   "pygments_lexer": "ipython3",
   "version": "3.10.9"
  },
  "orig_nbformat": 4,
  "vscode": {
   "interpreter": {
    "hash": "82c4015541b754518bdd450dd003bcd74bd11c63b2075de629e57fefc6f2394f"
   }
  }
 },
 "nbformat": 4,
 "nbformat_minor": 2
}
